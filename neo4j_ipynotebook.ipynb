{
 "cells": [
  {
   "cell_type": "markdown",
   "metadata": {},
   "source": [
    "## NEO4J CHALLENGE\n",
    "\n",
    "Jupyter notebook aiming to write a graph-enabled application using `Python` to ingest data based on the data model."
   ]
  },
  {
   "cell_type": "code",
   "execution_count": 12,
   "metadata": {},
   "outputs": [],
   "source": [
    "import os\n",
    "import requests\n",
    "import json\n",
    "from neo4j import GraphDatabase\n",
    "class Neo4jConnection:\n",
    "    \n",
    "    def __init__(self, uri, user, pwd):\n",
    "        self.__uri = uri\n",
    "        self.__user = user\n",
    "        self.__pwd = pwd\n",
    "        self.__driver = None\n",
    "        try:\n",
    "            self.__driver = GraphDatabase.driver(self.__uri, auth=(self.__user, self.__pwd))\n",
    "        except Exception as e:\n",
    "            print(\"Failed to create the driver:\", e)\n",
    "        \n",
    "    def close(self):\n",
    "        if self.__driver is not None:\n",
    "            self.__driver.close()\n",
    "        \n",
    "    def query(self, query, db=None):\n",
    "        assert self.__driver is not None, \"Driver not initialized!\"\n",
    "        session = None\n",
    "        response = None\n",
    "        try: \n",
    "            session = self.__driver.session(database=db) if db is not None else self.__driver.session() \n",
    "            response = list(session.run(query))\n",
    "        except Exception as e:\n",
    "            print(\"Query failed:\", e)\n",
    "        finally: \n",
    "            if session is not None:\n",
    "                session.close()\n",
    "        return response"
   ]
  },
  {
   "cell_type": "code",
   "execution_count": 13,
   "metadata": {},
   "outputs": [],
   "source": [
    "conn = Neo4jConnection(uri=\"bolt://localhost:7999\", user=\"neo4j\", pwd=\"password\")"
   ]
  },
  {
   "cell_type": "code",
   "execution_count": 15,
   "metadata": {},
   "outputs": [
    {
     "name": "stdout",
     "output_type": "stream",
     "text": [
      "Query failed: {code: Neo.ClientError.Statement.UnsupportedAdministrationCommand} {message: Unsupported administration command: CREATE DATABASE SNG_EDU}\n"
     ]
    }
   ],
   "source": [
    "conn.query(\"CREATE DATABASE SNG_EDU\")"
   ]
  },
  {
   "cell_type": "code",
   "execution_count": null,
   "metadata": {},
   "outputs": [],
   "source": []
  },
  {
   "cell_type": "code",
   "execution_count": 10,
   "metadata": {},
   "outputs": [
    {
     "name": "stdout",
     "output_type": "stream",
     "text": [
      "{'style': {'font-family': 'sans-serif', 'background-color': '#ffffff', 'background-image': '', 'background-size': '100%', 'node-color': '#ffffff', 'border-width': 4, 'border-color': '#000000', 'radius': 50, 'node-padding': 5, 'node-margin': 2, 'outside-position': 'auto', 'node-icon-image': '', 'node-background-image': '', 'icon-position': 'inside', 'icon-size': 64, 'caption-position': 'inside', 'caption-max-width': 200, 'caption-color': '#000000', 'caption-font-size': 50, 'caption-font-weight': 'normal', 'label-position': 'inside', 'label-display': 'pill', 'label-color': '#000000', 'label-background-color': '#ffffff', 'label-border-color': '#000000', 'label-border-width': 4, 'label-font-size': 40, 'label-padding': 5, 'label-margin': 4, 'directionality': 'directed', 'detail-position': 'inline', 'detail-orientation': 'parallel', 'arrow-width': 5, 'arrow-color': '#000000', 'margin-start': 5, 'margin-end': 5, 'margin-peer': 20, 'attachment-start': 'normal', 'attachment-end': 'normal', 'relationship-icon-image': '', 'type-color': '#000000', 'type-background-color': '#ffffff', 'type-border-color': '#000000', 'type-border-width': 0, 'type-font-size': 16, 'type-padding': 5, 'property-position': 'outside', 'property-alignment': 'colon', 'property-color': '#000000', 'property-font-size': 16, 'property-font-weight': 'normal'}, 'nodes': [{'id': 'n0', 'position': {'x': -248.39873146173656, 'y': 50}, 'caption': '', 'style': {}, 'labels': ['Anil Kumar'], 'properties': {}}, {'id': 'n1', 'position': {'x': -647.2690863579476, 'y': 487.50000000000006}, 'caption': '', 'style': {}, 'labels': ['Country'], 'properties': {'country': 'Malaysia'}}, {'id': 'n2', 'position': {'x': 41.15352081364303, 'y': 400.31018717426656}, 'caption': '', 'style': {}, 'labels': ['Institution'], 'properties': {'Institiution_Name': 'Raika Primary School'}}, {'id': 'n3', 'position': {'x': 543.2412772627647, 'y': -693.3084605450069}, 'caption': '', 'style': {}, 'labels': ['Course'], 'properties': {'Course_Name': '-', 'from_date': '1986', 'to_date': '1987\\r'}}, {'id': 'n6', 'position': {'x': -248.39873146173656, 'y': 175}, 'caption': '', 'style': {}, 'labels': ['Anil Kumar'], 'properties': {}}, {'id': 'n8', 'position': {'x': 41.15352081364303, 'y': 525.3101871742665}, 'caption': '', 'style': {}, 'labels': ['Institution'], 'properties': {'Institiution_Name': 'Baranagar Middle School'}}, {'id': 'n9', 'position': {'x': 543.2412772627647, 'y': -693.3084605450069}, 'caption': '', 'style': {}, 'labels': ['Course'], 'properties': {'Course_Name': 'All India Secondary School Examination', 'from_date': '1984', 'to_date': '1985\\r'}}, {'id': 'n12', 'position': {'x': -248.39873146173656, 'y': 300}, 'caption': '', 'style': {}, 'labels': ['Anil Kumar'], 'properties': {}}, {'id': 'n14', 'position': {'x': 41.15352081364303, 'y': 650.3101871742665}, 'caption': '', 'style': {}, 'labels': ['Institution'], 'properties': {'Institiution_Name': 'St George’s Junior High School'}}, {'id': 'n18', 'position': {'x': -248.39873146173656, 'y': 425}, 'caption': '', 'style': {}, 'labels': ['Anil Kumar'], 'properties': {}}, {'id': 'n20', 'position': {'x': 41.15352081364303, 'y': 775.3101871742665}, 'caption': '', 'style': {}, 'labels': ['Institution'], 'properties': {'Institiution_Name': 'St George’s Senior High School'}}, {'id': 'n21', 'position': {'x': 543.2412772627647, 'y': -443.30846054500694}, 'caption': '', 'style': {}, 'labels': ['Course'], 'properties': {'Course_Name': 'All India Senior School Certificate Examination', 'from_date': '1988', 'to_date': '1989\\r'}}, {'id': 'n24', 'position': {'x': -248.39873146173656, 'y': 550}, 'caption': '', 'style': {}, 'labels': ['Anil Kumar'], 'properties': {}}, {'id': 'n25', 'position': {'x': -647.2690863579476, 'y': 1058.9285714285713}, 'caption': '', 'style': {}, 'labels': ['Country'], 'properties': {'country': 'Vietnam'}}, {'id': 'n26', 'position': {'x': 41.15352081364303, 'y': 1400.310187174266}, 'caption': '', 'style': {}, 'labels': ['Institution'], 'properties': {'Institiution_Name': 'Smart National University of Vietnam'}}, {'id': 'n27', 'position': {'x': 543.2412772627647, 'y': 181.6915394549933}, 'caption': '', 'style': {}, 'labels': ['Course'], 'properties': {'Course_Name': 'Bachelor of Business Administration', 'from_date': '1992', 'to_date': '1995'}}, {'id': 'n30', 'position': {'x': -248.39873146173656, 'y': 675}, 'caption': '', 'style': {}, 'labels': ['Alice Gan'], 'properties': {}}, {'id': 'n32', 'position': {'x': 41.15352081364303, 'y': 1025.3101871742665}, 'caption': '', 'style': {}, 'labels': ['Institution'], 'properties': {'Institiution_Name': 'Sekolah Rendah Kebangsaan Peringgit'}}, {'id': 'n33', 'position': {'x': 543.2412772627647, 'y': -193.30846054500705}, 'caption': '', 'style': {}, 'labels': ['Course'], 'properties': {'Course_Name': 'Ujian Percapaian Sekolah Rendah', 'from_date': '1978', 'to_date': '1983\\r'}}, {'id': 'n36', 'position': {'x': -248.39873146173656, 'y': 800}, 'caption': '', 'style': {}, 'labels': ['Alice Gan'], 'properties': {}}, {'id': 'n38', 'position': {'x': 41.15352081364303, 'y': 1212.8101871742656}, 'caption': '', 'style': {}, 'labels': ['Institution'], 'properties': {'Institiution_Name': 'Sekolah Menengah Kebangsaan Chung Hua'}}, {'id': 'n39', 'position': {'x': 543.2412772627647, 'y': -68.30846054500705}, 'caption': '', 'style': {}, 'labels': ['Course'], 'properties': {'Course_Name': 'Penilaian Menengah Rendah', 'from_date': '1984', 'to_date': '1986\\r'}}, {'id': 'n42', 'position': {'x': -248.39873146173656, 'y': 925}, 'caption': '', 'style': {}, 'labels': ['Alice Gan'], 'properties': {}}, {'id': 'n45', 'position': {'x': 543.2412772627647, 'y': 56.69153945499295}, 'caption': '', 'style': {}, 'labels': ['Course'], 'properties': {'Course_Name': 'Sijil Pelajaran Malaysia', 'from_date': '1987', 'to_date': '1989\\r'}}, {'id': 'n48', 'position': {'x': -248.39873146173656, 'y': 1050}, 'caption': '', 'style': {}, 'labels': ['Alice Gan'], 'properties': {}}, {'id': 'n54', 'position': {'x': -248.39873146173656, 'y': 1175}, 'caption': '', 'style': {}, 'labels': ['Ariff Johan'], 'properties': {}}, {'id': 'n55', 'position': {'x': -647.2690863579476, 'y': 1308.9285714285718}, 'caption': '', 'style': {}, 'labels': ['Country'], 'properties': {'country': 'Singapore'}}, {'id': 'n56', 'position': {'x': 41.15352081364303, 'y': 1525.310187174266}, 'caption': '', 'style': {}, 'labels': ['Institution'], 'properties': {'Institiution_Name': 'Bukit Panjang Primary School'}}, {'id': 'n57', 'position': {'x': 543.2412772627647, 'y': 306.6915394549935}, 'caption': '', 'style': {}, 'labels': ['Course'], 'properties': {'Course_Name': 'Primary School Leaving Examination', 'from_date': '1978', 'to_date': '1983\\r'}}, {'id': 'n60', 'position': {'x': -248.39873146173656, 'y': 1300}, 'caption': '', 'style': {}, 'labels': ['Ariff Johan'], 'properties': {}}, {'id': 'n62', 'position': {'x': 41.15352081364303, 'y': 1650.310187174266}, 'caption': '', 'style': {}, 'labels': ['Institution'], 'properties': {'Institiution_Name': 'Maju Secondary School'}}, {'id': 'n63', 'position': {'x': 543.2412772627647, 'y': 431.6915394549935}, 'caption': '', 'style': {}, 'labels': ['Course'], 'properties': {'Course_Name': 'General Certificate of Education Ordinary Level', 'from_date': '1984', 'to_date': '1987\\r'}}, {'id': 'n66', 'position': {'x': -248.39873146173656, 'y': 1425}, 'caption': '', 'style': {}, 'labels': ['Ariff Johan'], 'properties': {}}, {'id': 'n68', 'position': {'x': 41.15352081364303, 'y': 1775.310187174266}, 'caption': '', 'style': {}, 'labels': ['Institution'], 'properties': {'Institiution_Name': 'Temasek Junior College'}}, {'id': 'n69', 'position': {'x': 543.2412772627647, 'y': 556.6915394549935}, 'caption': '', 'style': {}, 'labels': ['Course'], 'properties': {'Course_Name': 'General Certificate of Education Advanced Level', 'from_date': '1988', 'to_date': '1989\\r'}}, {'id': 'n72', 'position': {'x': -248.39873146173656, 'y': 1550}, 'caption': '', 'style': {}, 'labels': ['Ariff Johan'], 'properties': {}}], 'relationships': [{'id': 'n0', 'type': 'STUDIED_IN', 'style': {}, 'properties': {}, 'fromId': 'n0', 'toId': 'n1'}, {'id': 'n1', 'type': 'STUDIED_IN', 'style': {}, 'properties': {}, 'fromId': 'n6', 'toId': 'n1'}, {'id': 'n2', 'type': 'STUDIED_IN', 'style': {}, 'properties': {}, 'fromId': 'n12', 'toId': 'n1'}, {'id': 'n3', 'type': 'STUDIED_IN', 'style': {}, 'properties': {}, 'fromId': 'n18', 'toId': 'n1'}, {'id': 'n4', 'type': 'STUDIED_IN', 'style': {}, 'properties': {}, 'fromId': 'n24', 'toId': 'n25'}, {'id': 'n5', 'type': 'STUDIED_IN', 'style': {}, 'properties': {}, 'fromId': 'n30', 'toId': 'n1'}, {'id': 'n6', 'type': 'STUDIED_IN', 'style': {}, 'properties': {}, 'fromId': 'n36', 'toId': 'n1'}, {'id': 'n7', 'type': 'STUDIED_IN', 'style': {}, 'properties': {}, 'fromId': 'n42', 'toId': 'n1'}, {'id': 'n8', 'type': 'STUDIED_IN', 'style': {}, 'properties': {}, 'fromId': 'n48', 'toId': 'n25'}, {'id': 'n9', 'type': 'STUDIED_IN', 'style': {}, 'properties': {}, 'fromId': 'n54', 'toId': 'n55'}, {'id': 'n10', 'type': 'STUDIED_IN', 'style': {}, 'properties': {}, 'fromId': 'n60', 'toId': 'n55'}, {'id': 'n11', 'type': 'STUDIED_IN', 'style': {}, 'properties': {}, 'fromId': 'n66', 'toId': 'n55'}, {'id': 'n12', 'type': 'STUDIED_IN', 'style': {}, 'properties': {}, 'fromId': 'n72', 'toId': 'n25'}, {'id': 'n13', 'type': 'STUDIED_AT', 'style': {}, 'properties': {}, 'fromId': 'n18', 'toId': 'n20'}, {'id': 'n14', 'type': 'STUDIED_AT', 'style': {}, 'properties': {}, 'fromId': 'n0', 'toId': 'n2'}, {'id': 'n15', 'type': 'STUDIED_AT', 'style': {}, 'properties': {}, 'fromId': 'n6', 'toId': 'n8'}, {'id': 'n16', 'type': 'STUDIED_AT', 'style': {}, 'properties': {}, 'fromId': 'n12', 'toId': 'n14'}, {'id': 'n17', 'type': 'STUDIED_AT', 'style': {}, 'properties': {}, 'fromId': 'n24', 'toId': 'n26'}, {'id': 'n18', 'type': 'STUDIED_AT', 'style': {}, 'properties': {}, 'fromId': 'n30', 'toId': 'n32'}, {'id': 'n19', 'type': 'STUDIED_AT', 'style': {}, 'properties': {}, 'fromId': 'n36', 'toId': 'n38'}, {'id': 'n20', 'type': 'STUDIED_AT', 'style': {}, 'properties': {}, 'fromId': 'n42', 'toId': 'n38'}, {'id': 'n21', 'type': 'STUDIED_AT', 'style': {}, 'properties': {}, 'fromId': 'n48', 'toId': 'n26'}, {'id': 'n22', 'type': 'STUDIED_AT', 'style': {}, 'properties': {}, 'fromId': 'n54', 'toId': 'n56'}, {'id': 'n23', 'type': 'STUDIED_AT', 'style': {}, 'properties': {}, 'fromId': 'n60', 'toId': 'n62'}, {'id': 'n24', 'type': 'STUDIED_AT', 'style': {}, 'properties': {}, 'fromId': 'n66', 'toId': 'n68'}, {'id': 'n25', 'type': 'STUDIED_AT', 'style': {}, 'properties': {}, 'fromId': 'n72', 'toId': 'n26'}, {'id': 'n26', 'type': 'SUBJECT_STUDIED', 'style': {}, 'properties': {}, 'fromId': 'n0', 'toId': 'n3'}, {'id': 'n27', 'type': 'SUBJECT_STUDIED', 'style': {}, 'properties': {}, 'fromId': 'n6', 'toId': 'n9'}, {'id': 'n28', 'type': 'SUBJECT_STUDIED', 'style': {}, 'properties': {}, 'fromId': 'n12', 'toId': 'n3'}, {'id': 'n29', 'type': 'SUBJECT_STUDIED', 'style': {}, 'properties': {}, 'fromId': 'n18', 'toId': 'n21'}, {'id': 'n30', 'type': 'SUBJECT_STUDIED', 'style': {}, 'properties': {}, 'fromId': 'n24', 'toId': 'n27'}, {'id': 'n31', 'type': 'SUBJECT_STUDIED', 'style': {}, 'properties': {}, 'fromId': 'n30', 'toId': 'n33'}, {'id': 'n32', 'type': 'SUBJECT_STUDIED', 'style': {}, 'properties': {}, 'fromId': 'n36', 'toId': 'n39'}, {'id': 'n33', 'type': 'SUBJECT_STUDIED', 'style': {}, 'properties': {}, 'fromId': 'n42', 'toId': 'n45'}, {'id': 'n34', 'type': 'SUBJECT_STUDIED', 'style': {}, 'properties': {}, 'fromId': 'n48', 'toId': 'n27'}, {'id': 'n35', 'type': 'SUBJECT_STUDIED', 'style': {}, 'properties': {}, 'fromId': 'n54', 'toId': 'n57'}, {'id': 'n36', 'type': 'SUBJECT_STUDIED', 'style': {}, 'properties': {}, 'fromId': 'n60', 'toId': 'n63'}, {'id': 'n37', 'type': 'SUBJECT_STUDIED', 'style': {}, 'properties': {}, 'fromId': 'n66', 'toId': 'n69'}, {'id': 'n38', 'type': 'SUBJECT_STUDIED', 'style': {}, 'properties': {}, 'fromId': 'n72', 'toId': 'n27'}]}\n"
     ]
    }
   ],
   "source": [
    "## Open JSON file\n",
    "with open(\"scripts/SNG_EDU.json\") as file:\n",
    "    data = json.load(file)\n",
    "\n",
    "print(data)"
   ]
  },
  {
   "cell_type": "code",
   "execution_count": 11,
   "metadata": {},
   "outputs": [
    {
     "ename": "KeyError",
     "evalue": "0",
     "output_type": "error",
     "traceback": [
      "\u001b[0;31m---------------------------------------------------------------------------\u001b[0m",
      "\u001b[0;31mKeyError\u001b[0m                                  Traceback (most recent call last)",
      "\u001b[1;32m/Users/franckess/DataScience/Neo4j/neo4j_ipynotebook.ipynb Cell 4'\u001b[0m in \u001b[0;36m<cell line: 3>\u001b[0;34m()\u001b[0m\n\u001b[1;32m      <a href='vscode-notebook-cell:/Users/franckess/DataScience/Neo4j/neo4j_ipynotebook.ipynb#ch0000005?line=1'>2</a>\u001b[0m nodes \u001b[39m=\u001b[39m []\n\u001b[1;32m      <a href='vscode-notebook-cell:/Users/franckess/DataScience/Neo4j/neo4j_ipynotebook.ipynb#ch0000005?line=2'>3</a>\u001b[0m \u001b[39mfor\u001b[39;00m i \u001b[39min\u001b[39;00m \u001b[39mrange\u001b[39m(\u001b[39mlen\u001b[39m(data)):\n\u001b[0;32m----> <a href='vscode-notebook-cell:/Users/franckess/DataScience/Neo4j/neo4j_ipynotebook.ipynb#ch0000005?line=3'>4</a>\u001b[0m     nodes\u001b[39m.\u001b[39mappend(data[i][\u001b[39m'\u001b[39m\u001b[39mnode\u001b[39m\u001b[39m'\u001b[39m])\n",
      "\u001b[0;31mKeyError\u001b[0m: 0"
     ]
    }
   ],
   "source": [
    "## Saving nodes\n",
    "nodes = []\n",
    "for i in range(len(data)):\n",
    "    nodes.append(data[i]['node'])"
   ]
  }
 ],
 "metadata": {
  "interpreter": {
   "hash": "20d583ec64bd90a0c744d1c3790c0b2bb376956988afa24c8c702849687f22ae"
  },
  "kernelspec": {
   "display_name": "Python 3.9.7 ('sandbox': venv)",
   "language": "python",
   "name": "python3"
  },
  "language_info": {
   "codemirror_mode": {
    "name": "ipython",
    "version": 3
   },
   "file_extension": ".py",
   "mimetype": "text/x-python",
   "name": "python",
   "nbconvert_exporter": "python",
   "pygments_lexer": "ipython3",
   "version": "3.9.7"
  },
  "orig_nbformat": 4
 },
 "nbformat": 4,
 "nbformat_minor": 2
}
