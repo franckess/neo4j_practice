{
 "cells": [
  {
   "cell_type": "markdown",
   "metadata": {},
   "source": [
    "## NEO4J CHALLENGE\n",
    "\n",
    "Jupyter notebook aiming to write a graph-enabled application using `Python` to ingest data based on the data model."
   ]
  },
  {
   "cell_type": "code",
   "execution_count": null,
   "metadata": {},
   "outputs": [],
   "source": [
    "import glob\n",
    "from py2neo import Graph"
   ]
  },
  {
   "cell_type": "code",
   "execution_count": 1,
   "metadata": {},
   "outputs": [],
   "source": [
    "\n",
    "class Neo4jConnection:\n",
    "    \n",
    "    def __init__(self, uri, user, pwd):\n",
    "        self.__uri = uri\n",
    "        self.__user = user\n",
    "        self.__pwd = pwd\n",
    "        self.__driver = None\n",
    "        try:\n",
    "            self.__driver = Graph.driver(self.__uri, auth=(self.__user, self.__pwd))\n",
    "        except Exception as e:\n",
    "            print(\"Failed to create the driver:\", e)\n",
    "        \n",
    "    def close(self):\n",
    "        if self.__driver is not None:\n",
    "            self.__driver.close()\n",
    "        \n",
    "    def query(self, query, db=None):\n",
    "        assert self.__driver is not None, \"Driver not initialized!\"\n",
    "        session = None\n",
    "        response = None\n",
    "        try: \n",
    "            session = self.__driver.session(database=db) if db is not None else self.__driver.session() \n",
    "            response = list(session.run(query))\n",
    "        except Exception as e:\n",
    "            print(\"Query failed:\", e)\n",
    "        finally: \n",
    "            if session is not None:\n",
    "                session.close()\n",
    "        return response"
   ]
  },
  {
   "cell_type": "markdown",
   "metadata": {},
   "source": [
    "### Push data to graph database"
   ]
  },
  {
   "cell_type": "code",
   "execution_count": 58,
   "metadata": {},
   "outputs": [],
   "source": [
    "conn = Neo4jConnection(uri=\"bolt://localhost:7999\", user=\"neo4j\", pwd=\"password\")"
   ]
  },
  {
   "cell_type": "code",
   "execution_count": 71,
   "metadata": {},
   "outputs": [
    {
     "name": "stdout",
     "output_type": "stream",
     "text": [
      "db/scripts/sng_transaction.cypher was loaded in Neo4j remote database\n",
      "db/scripts/sng_trips.cypher was loaded in Neo4j remote database\n",
      "db/scripts/sng_edu.cypher was loaded in Neo4j remote database\n",
      "db/scripts/sng_work.cypher was loaded in Neo4j remote database\n"
     ]
    }
   ],
   "source": [
    "list_cypher = glob.glob(\"db/scripts/*.cypher\")\n",
    "\n",
    "for fpath in list_cypher:\n",
    "    with open(fpath, 'r') as f:\n",
    "        conn.query(f.read())\n",
    "        f.close()\n",
    "    print(\"{} was loaded in Neo4j remote database\".format(fpath))"
   ]
  }
 ],
 "metadata": {
  "interpreter": {
   "hash": "20d583ec64bd90a0c744d1c3790c0b2bb376956988afa24c8c702849687f22ae"
  },
  "kernelspec": {
   "display_name": "Python 3.9.7 ('sandbox': venv)",
   "language": "python",
   "name": "python3"
  },
  "language_info": {
   "codemirror_mode": {
    "name": "ipython",
    "version": 3
   },
   "file_extension": ".py",
   "mimetype": "text/x-python",
   "name": "python",
   "nbconvert_exporter": "python",
   "pygments_lexer": "ipython3",
   "version": "3.9.7"
  },
  "orig_nbformat": 4
 },
 "nbformat": 4,
 "nbformat_minor": 2
}
